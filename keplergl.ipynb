{
 "cells": [
  {
   "cell_type": "markdown",
   "id": "57deb26d-e9ca-42f3-ab5f-b81d5b48d1a5",
   "metadata": {},
   "source": [
    "# INSTALL"
   ]
  },
  {
   "cell_type": "code",
   "execution_count": 1,
   "id": "941251c6-790f-4600-9da8-190b0e86fcb0",
   "metadata": {},
   "outputs": [
    {
     "name": "stdout",
     "output_type": "stream",
     "text": [
     
     ]
    }
   ],
   "source": [
    "!pip install keplergl"
   ]
  },
  {
   "cell_type": "markdown",
   "id": "2dbea325-1363-4711-a996-92b34f10edaa",
   "metadata": {},
   "source": [
    "# MAP CANVAS"
   ]
  },
  {
   "cell_type": "code",
   "execution_count": 2,
   "id": "f89ff759-a001-4dc3-9417-1049e5c82137",
   "metadata": {},
   "outputs": [
    {
     "name": "stdout",
     "output_type": "stream",
     "text": [
      "User Guide: https://docs.kepler.gl/docs/keplergl-jupyter\n"
     ]
    },
    {
     "data": {
      "application/vnd.jupyter.widget-view+json": {
       "model_id": "13e53b95f3f94e648ecf8ee2fbd9039c",
       "version_major": 2,
       "version_minor": 0
      },
      "text/plain": [
       "KeplerGl(height=500)"
      ]
     },
     "execution_count": 2,
     "metadata": {},
     "output_type": "execute_result"
    }
   ],
   "source": [
    "from keplergl.keplergl import KeplerGl\n",
    "map_1 = KeplerGl(height=500)\n",
    "map_1\n"
   ]
  },
  {
   "cell_type": "markdown",
   "id": "468ef02a-292d-45b2-b625-830594a6e5c7",
   "metadata": {},
   "source": [
    "# IMPORT"
   ]
  },
  {
   "cell_type": "code",
   "execution_count": 11,
   "id": "9cea81a9-5dae-442e-a6c5-a2d6b1cf174c",
   "metadata": {},
   "outputs": [
    {
     "name": "stdout",
     "output_type": "stream",
     "text": [
      "User Guide: https://docs.kepler.gl/docs/keplergl-jupyter\n"
     ]
    },
    {
     "data": {
      "application/vnd.jupyter.widget-view+json": {
       "model_id": "84b9f453099a4bd38804215da6cf8928",
       "version_major": 2,
       "version_minor": 0
      },
      "text/plain": [
       "KeplerGl(data={'Depremler': {'index': [0, 1, 2, 3, 4, 5, 6, 7, 8, 9, 10, 11, 12, 13, 14, 15, 16, 17, 18, 19, 2…"
      ]
     },
     "execution_count": 11,
     "metadata": {},
     "output_type": "execute_result"
    }
   ],
   "source": [
    "import pandas as pd\n",
    "import numpy as np\n",
    "from keplergl import KeplerGl\n",
    "\n",
    "\n",
    "df = pd.read_csv(\"datasetindex.txt\", sep=\"\\t\", encoding=\"ISO-8859-9\")\n",
    "\n",
    "\n",
    "df_filtered = df[[\"Enlem\", \"Boylam\", \"Yer\", \"Olus tarihi\", \"Mw\"]].copy()\n",
    "\n",
    "\n",
    "df_filtered.loc[:, \"Enlem\"] = pd.to_numeric(df_filtered[\"Enlem\"], errors=\"coerce\")\n",
    "df_filtered.loc[:, \"Boylam\"] = pd.to_numeric(df_filtered[\"Boylam\"], errors=\"coerce\")\n",
    "df_filtered = df_filtered.dropna(subset=[\"Enlem\", \"Boylam\"])\n",
    "df_filtered = df_filtered[np.isfinite(df_filtered[\"Enlem\"]) & np.isfinite(df_filtered[\"Boylam\"])]\n",
    "df_filtered = df_filtered[(df_filtered[\"Enlem\"].between(-90, 90)) & (df_filtered[\"Boylam\"].between(-180, 180))]\n",
    "df_filtered = df_filtered.replace([np.inf, -np.inf], np.nan).dropna()\n",
    "\n",
    "# map\n",
    "map_1 = KeplerGl(height=600)\n",
    "map_1.add_data(data=df_filtered, name=\"Depremler\")\n",
    "map_1\n"
   ]
  },
  {
   "cell_type": "code",
   "execution_count": null,
   "id": "df9e2337-e433-431e-a7fb-cd33363f8c74",
   "metadata": {},
   "outputs": [],
   "source": []
  }
 ],
 "metadata": {
  "kernelspec": {
   "display_name": "Python 3 (ipykernel)",
   "language": "python",
   "name": "python3"
  },
  "language_info": {
   "codemirror_mode": {
    "name": "ipython",
    "version": 3
   },
   "file_extension": ".py",
   "mimetype": "text/x-python",
   "name": "python",
   "nbconvert_exporter": "python",
   "pygments_lexer": "ipython3",
   "version": "3.9.21"
  }
 },
 "nbformat": 4,
 "nbformat_minor": 5
}
