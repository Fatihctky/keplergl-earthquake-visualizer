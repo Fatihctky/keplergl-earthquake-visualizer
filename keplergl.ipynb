{
 "cells": [
  {
   "cell_type": "markdown",
   "id": "57deb26d-e9ca-42f3-ab5f-b81d5b48d1a5",
   "metadata": {},
   "source": [
    "# INSTALL"
   ]
  },
  {
   "cell_type": "code",
   "execution_count": 1,
   "id": "941251c6-790f-4600-9da8-190b0e86fcb0",
   "metadata": {},
   "outputs": [
    {
     "name": "stdout",
     "output_type": "stream",
     "text": [
      "Requirement already satisfied: keplergl in c:\\users\\fatih\\anaconda3\\envs\\kepler_env\\lib\\site-packages (0.3.7)\n",
      "Requirement already satisfied: ipywidgets>=8.1.5 in c:\\users\\fatih\\anaconda3\\envs\\kepler_env\\lib\\site-packages (from keplergl) (8.1.7)\n",
      "Requirement already satisfied: traittypes>=0.2.1 in c:\\users\\fatih\\anaconda3\\envs\\kepler_env\\lib\\site-packages (from keplergl) (0.2.1)\n",
      "Requirement already satisfied: traitlets>=4.3.2 in c:\\users\\fatih\\anaconda3\\envs\\kepler_env\\lib\\site-packages (from keplergl) (5.14.3)\n",
      "Requirement already satisfied: geopandas>=0.14.3 in c:\\users\\fatih\\anaconda3\\envs\\kepler_env\\lib\\site-packages (from keplergl) (1.0.1)\n",
      "Requirement already satisfied: Shapely>=1.6.4.post2 in c:\\users\\fatih\\anaconda3\\envs\\kepler_env\\lib\\site-packages (from keplergl) (2.0.7)\n",
      "Requirement already satisfied: jupyter_packaging>=0.12.3 in c:\\users\\fatih\\anaconda3\\envs\\kepler_env\\lib\\site-packages (from keplergl) (0.12.3)\n",
      "Requirement already satisfied: jupyter>=1.0.0 in c:\\users\\fatih\\anaconda3\\envs\\kepler_env\\lib\\site-packages (from keplergl) (1.1.1)\n",
      "Requirement already satisfied: jupyterlab>=4.1.6 in c:\\users\\fatih\\anaconda3\\envs\\kepler_env\\lib\\site-packages (from keplergl) (4.4.3)\n",
      "Requirement already satisfied: notebook>=6.0.1 in c:\\users\\fatih\\anaconda3\\envs\\kepler_env\\lib\\site-packages (from keplergl) (7.4.3)\n",
      "Requirement already satisfied: pyarrow>=16.0.0 in c:\\users\\fatih\\anaconda3\\envs\\kepler_env\\lib\\site-packages (from keplergl) (20.0.0)\n",
      "Requirement already satisfied: geoarrow-pyarrow>=0.1.2 in c:\\users\\fatih\\anaconda3\\envs\\kepler_env\\lib\\site-packages (from keplergl) (0.2.0)\n",
      "Requirement already satisfied: geoarrow-pandas>=0.1.1 in c:\\users\\fatih\\anaconda3\\envs\\kepler_env\\lib\\site-packages (from keplergl) (0.1.1)\n",
      "Requirement already satisfied: pandas in c:\\users\\fatih\\anaconda3\\envs\\kepler_env\\lib\\site-packages (from geoarrow-pandas>=0.1.1->keplergl) (2.2.3)\n",
      "Requirement already satisfied: geoarrow-types>=0.3.0 in c:\\users\\fatih\\anaconda3\\envs\\kepler_env\\lib\\site-packages (from geoarrow-pyarrow>=0.1.2->keplergl) (0.3.0)\n",
      "Requirement already satisfied: geoarrow-c>=0.3.0 in c:\\users\\fatih\\anaconda3\\envs\\kepler_env\\lib\\site-packages (from geoarrow-pyarrow>=0.1.2->keplergl) (0.3.0)\n",
      "Requirement already satisfied: numpy>=1.22 in c:\\users\\fatih\\anaconda3\\envs\\kepler_env\\lib\\site-packages (from geopandas>=0.14.3->keplergl) (2.0.2)\n",
      "Requirement already satisfied: pyogrio>=0.7.2 in c:\\users\\fatih\\anaconda3\\envs\\kepler_env\\lib\\site-packages (from geopandas>=0.14.3->keplergl) (0.11.0)\n",
      "Requirement already satisfied: packaging in c:\\users\\fatih\\anaconda3\\envs\\kepler_env\\lib\\site-packages (from geopandas>=0.14.3->keplergl) (25.0)\n",
      "Requirement already satisfied: pyproj>=3.3.0 in c:\\users\\fatih\\anaconda3\\envs\\kepler_env\\lib\\site-packages (from geopandas>=0.14.3->keplergl) (3.6.1)\n",
      "Requirement already satisfied: comm>=0.1.3 in c:\\users\\fatih\\anaconda3\\envs\\kepler_env\\lib\\site-packages (from ipywidgets>=8.1.5->keplergl) (0.2.2)\n",
      "Requirement already satisfied: ipython>=6.1.0 in c:\\users\\fatih\\anaconda3\\envs\\kepler_env\\lib\\site-packages (from ipywidgets>=8.1.5->keplergl) (8.18.1)\n",
      "Requirement already satisfied: widgetsnbextension~=4.0.14 in c:\\users\\fatih\\anaconda3\\envs\\kepler_env\\lib\\site-packages (from ipywidgets>=8.1.5->keplergl) (4.0.14)\n",
      "Requirement already satisfied: jupyterlab_widgets~=3.0.15 in c:\\users\\fatih\\anaconda3\\envs\\kepler_env\\lib\\site-packages (from ipywidgets>=8.1.5->keplergl) (3.0.15)\n",
      "Requirement already satisfied: decorator in c:\\users\\fatih\\anaconda3\\envs\\kepler_env\\lib\\site-packages (from ipython>=6.1.0->ipywidgets>=8.1.5->keplergl) (5.2.1)\n",
      "Requirement already satisfied: jedi>=0.16 in c:\\users\\fatih\\anaconda3\\envs\\kepler_env\\lib\\site-packages (from ipython>=6.1.0->ipywidgets>=8.1.5->keplergl) (0.19.2)\n",
      "Requirement already satisfied: matplotlib-inline in c:\\users\\fatih\\anaconda3\\envs\\kepler_env\\lib\\site-packages (from ipython>=6.1.0->ipywidgets>=8.1.5->keplergl) (0.1.7)\n",
      "Requirement already satisfied: prompt-toolkit<3.1.0,>=3.0.41 in c:\\users\\fatih\\anaconda3\\envs\\kepler_env\\lib\\site-packages (from ipython>=6.1.0->ipywidgets>=8.1.5->keplergl) (3.0.51)\n",
      "Requirement already satisfied: pygments>=2.4.0 in c:\\users\\fatih\\anaconda3\\envs\\kepler_env\\lib\\site-packages (from ipython>=6.1.0->ipywidgets>=8.1.5->keplergl) (2.19.1)\n",
      "Requirement already satisfied: stack-data in c:\\users\\fatih\\anaconda3\\envs\\kepler_env\\lib\\site-packages (from ipython>=6.1.0->ipywidgets>=8.1.5->keplergl) (0.6.3)\n",
      "Requirement already satisfied: typing-extensions in c:\\users\\fatih\\anaconda3\\envs\\kepler_env\\lib\\site-packages (from ipython>=6.1.0->ipywidgets>=8.1.5->keplergl) (4.13.2)\n",
      "Requirement already satisfied: exceptiongroup in c:\\users\\fatih\\anaconda3\\envs\\kepler_env\\lib\\site-packages (from ipython>=6.1.0->ipywidgets>=8.1.5->keplergl) (1.3.0)\n",
      "Requirement already satisfied: colorama in c:\\users\\fatih\\anaconda3\\envs\\kepler_env\\lib\\site-packages (from ipython>=6.1.0->ipywidgets>=8.1.5->keplergl) (0.4.6)\n",
      "Requirement already satisfied: wcwidth in c:\\users\\fatih\\anaconda3\\envs\\kepler_env\\lib\\site-packages (from prompt-toolkit<3.1.0,>=3.0.41->ipython>=6.1.0->ipywidgets>=8.1.5->keplergl) (0.2.13)\n",
      "Requirement already satisfied: parso<0.9.0,>=0.8.4 in c:\\users\\fatih\\anaconda3\\envs\\kepler_env\\lib\\site-packages (from jedi>=0.16->ipython>=6.1.0->ipywidgets>=8.1.5->keplergl) (0.8.4)\n",
      "Requirement already satisfied: jupyter-console in c:\\users\\fatih\\anaconda3\\envs\\kepler_env\\lib\\site-packages (from jupyter>=1.0.0->keplergl) (6.6.3)\n",
      "Requirement already satisfied: nbconvert in c:\\users\\fatih\\anaconda3\\envs\\kepler_env\\lib\\site-packages (from jupyter>=1.0.0->keplergl) (7.16.6)\n",
      "Requirement already satisfied: ipykernel in c:\\users\\fatih\\anaconda3\\envs\\kepler_env\\lib\\site-packages (from jupyter>=1.0.0->keplergl) (6.29.5)\n",
      "Requirement already satisfied: deprecation in c:\\users\\fatih\\anaconda3\\envs\\kepler_env\\lib\\site-packages (from jupyter_packaging>=0.12.3->keplergl) (2.1.0)\n",
      "Requirement already satisfied: setuptools>=60.2.0 in c:\\users\\fatih\\anaconda3\\envs\\kepler_env\\lib\\site-packages (from jupyter_packaging>=0.12.3->keplergl) (78.1.1)\n",
      "Requirement already satisfied: tomlkit in c:\\users\\fatih\\anaconda3\\envs\\kepler_env\\lib\\site-packages (from jupyter_packaging>=0.12.3->keplergl) (0.13.2)\n",
      "Requirement already satisfied: wheel in c:\\users\\fatih\\anaconda3\\envs\\kepler_env\\lib\\site-packages (from jupyter_packaging>=0.12.3->keplergl) (0.45.1)\n",
      "Requirement already satisfied: async-lru>=1.0.0 in c:\\users\\fatih\\anaconda3\\envs\\kepler_env\\lib\\site-packages (from jupyterlab>=4.1.6->keplergl) (2.0.5)\n",
      "Requirement already satisfied: httpx>=0.25.0 in c:\\users\\fatih\\anaconda3\\envs\\kepler_env\\lib\\site-packages (from jupyterlab>=4.1.6->keplergl) (0.28.1)\n",
      "Requirement already satisfied: importlib-metadata>=4.8.3 in c:\\users\\fatih\\anaconda3\\envs\\kepler_env\\lib\\site-packages (from jupyterlab>=4.1.6->keplergl) (8.7.0)\n",
      "Requirement already satisfied: jinja2>=3.0.3 in c:\\users\\fatih\\anaconda3\\envs\\kepler_env\\lib\\site-packages (from jupyterlab>=4.1.6->keplergl) (3.1.6)\n",
      "Requirement already satisfied: jupyter-core in c:\\users\\fatih\\anaconda3\\envs\\kepler_env\\lib\\site-packages (from jupyterlab>=4.1.6->keplergl) (5.8.1)\n",
      "Requirement already satisfied: jupyter-lsp>=2.0.0 in c:\\users\\fatih\\anaconda3\\envs\\kepler_env\\lib\\site-packages (from jupyterlab>=4.1.6->keplergl) (2.2.5)\n",
      "Requirement already satisfied: jupyter-server<3,>=2.4.0 in c:\\users\\fatih\\anaconda3\\envs\\kepler_env\\lib\\site-packages (from jupyterlab>=4.1.6->keplergl) (2.16.0)\n",
      "Requirement already satisfied: jupyterlab-server<3,>=2.27.1 in c:\\users\\fatih\\anaconda3\\envs\\kepler_env\\lib\\site-packages (from jupyterlab>=4.1.6->keplergl) (2.27.3)\n",
      "Requirement already satisfied: notebook-shim>=0.2 in c:\\users\\fatih\\anaconda3\\envs\\kepler_env\\lib\\site-packages (from jupyterlab>=4.1.6->keplergl) (0.2.4)\n",
      "Requirement already satisfied: tomli>=1.2.2 in c:\\users\\fatih\\anaconda3\\envs\\kepler_env\\lib\\site-packages (from jupyterlab>=4.1.6->keplergl) (2.2.1)\n",
      "Requirement already satisfied: tornado>=6.2.0 in c:\\users\\fatih\\anaconda3\\envs\\kepler_env\\lib\\site-packages (from jupyterlab>=4.1.6->keplergl) (6.5.1)\n",
      "Requirement already satisfied: anyio>=3.1.0 in c:\\users\\fatih\\anaconda3\\envs\\kepler_env\\lib\\site-packages (from jupyter-server<3,>=2.4.0->jupyterlab>=4.1.6->keplergl) (4.9.0)\n",
      "Requirement already satisfied: argon2-cffi>=21.1 in c:\\users\\fatih\\anaconda3\\envs\\kepler_env\\lib\\site-packages (from jupyter-server<3,>=2.4.0->jupyterlab>=4.1.6->keplergl) (23.1.0)\n",
      "Requirement already satisfied: jupyter-client>=7.4.4 in c:\\users\\fatih\\anaconda3\\envs\\kepler_env\\lib\\site-packages (from jupyter-server<3,>=2.4.0->jupyterlab>=4.1.6->keplergl) (8.6.3)\n",
      "Requirement already satisfied: jupyter-events>=0.11.0 in c:\\users\\fatih\\anaconda3\\envs\\kepler_env\\lib\\site-packages (from jupyter-server<3,>=2.4.0->jupyterlab>=4.1.6->keplergl) (0.12.0)\n",
      "Requirement already satisfied: jupyter-server-terminals>=0.4.4 in c:\\users\\fatih\\anaconda3\\envs\\kepler_env\\lib\\site-packages (from jupyter-server<3,>=2.4.0->jupyterlab>=4.1.6->keplergl) (0.5.3)\n",
      "Requirement already satisfied: nbformat>=5.3.0 in c:\\users\\fatih\\anaconda3\\envs\\kepler_env\\lib\\site-packages (from jupyter-server<3,>=2.4.0->jupyterlab>=4.1.6->keplergl) (5.10.4)\n",
      "Requirement already satisfied: overrides>=5.0 in c:\\users\\fatih\\anaconda3\\envs\\kepler_env\\lib\\site-packages (from jupyter-server<3,>=2.4.0->jupyterlab>=4.1.6->keplergl) (7.7.0)\n",
      "Requirement already satisfied: prometheus-client>=0.9 in c:\\users\\fatih\\anaconda3\\envs\\kepler_env\\lib\\site-packages (from jupyter-server<3,>=2.4.0->jupyterlab>=4.1.6->keplergl) (0.22.0)\n",
      "Requirement already satisfied: pywinpty>=2.0.1 in c:\\users\\fatih\\anaconda3\\envs\\kepler_env\\lib\\site-packages (from jupyter-server<3,>=2.4.0->jupyterlab>=4.1.6->keplergl) (2.0.15)\n",
      "Requirement already satisfied: pyzmq>=24 in c:\\users\\fatih\\anaconda3\\envs\\kepler_env\\lib\\site-packages (from jupyter-server<3,>=2.4.0->jupyterlab>=4.1.6->keplergl) (26.4.0)\n",
      "Requirement already satisfied: send2trash>=1.8.2 in c:\\users\\fatih\\anaconda3\\envs\\kepler_env\\lib\\site-packages (from jupyter-server<3,>=2.4.0->jupyterlab>=4.1.6->keplergl) (1.8.3)\n",
      "Requirement already satisfied: terminado>=0.8.3 in c:\\users\\fatih\\anaconda3\\envs\\kepler_env\\lib\\site-packages (from jupyter-server<3,>=2.4.0->jupyterlab>=4.1.6->keplergl) (0.18.1)\n",
      "Requirement already satisfied: websocket-client>=1.7 in c:\\users\\fatih\\anaconda3\\envs\\kepler_env\\lib\\site-packages (from jupyter-server<3,>=2.4.0->jupyterlab>=4.1.6->keplergl) (1.8.0)\n",
      "Requirement already satisfied: babel>=2.10 in c:\\users\\fatih\\anaconda3\\envs\\kepler_env\\lib\\site-packages (from jupyterlab-server<3,>=2.27.1->jupyterlab>=4.1.6->keplergl) (2.17.0)\n",
      "Requirement already satisfied: json5>=0.9.0 in c:\\users\\fatih\\anaconda3\\envs\\kepler_env\\lib\\site-packages (from jupyterlab-server<3,>=2.27.1->jupyterlab>=4.1.6->keplergl) (0.12.0)\n",
      "Requirement already satisfied: jsonschema>=4.18.0 in c:\\users\\fatih\\anaconda3\\envs\\kepler_env\\lib\\site-packages (from jupyterlab-server<3,>=2.27.1->jupyterlab>=4.1.6->keplergl) (4.24.0)\n",
      "Requirement already satisfied: requests>=2.31 in c:\\users\\fatih\\anaconda3\\envs\\kepler_env\\lib\\site-packages (from jupyterlab-server<3,>=2.27.1->jupyterlab>=4.1.6->keplergl) (2.32.3)\n",
      "Requirement already satisfied: idna>=2.8 in c:\\users\\fatih\\anaconda3\\envs\\kepler_env\\lib\\site-packages (from anyio>=3.1.0->jupyter-server<3,>=2.4.0->jupyterlab>=4.1.6->keplergl) (3.10)\n",
      "Requirement already satisfied: sniffio>=1.1 in c:\\users\\fatih\\anaconda3\\envs\\kepler_env\\lib\\site-packages (from anyio>=3.1.0->jupyter-server<3,>=2.4.0->jupyterlab>=4.1.6->keplergl) (1.3.1)\n",
      "Requirement already satisfied: argon2-cffi-bindings in c:\\users\\fatih\\anaconda3\\envs\\kepler_env\\lib\\site-packages (from argon2-cffi>=21.1->jupyter-server<3,>=2.4.0->jupyterlab>=4.1.6->keplergl) (21.2.0)\n",
      "Requirement already satisfied: certifi in c:\\users\\fatih\\anaconda3\\envs\\kepler_env\\lib\\site-packages (from httpx>=0.25.0->jupyterlab>=4.1.6->keplergl) (2025.4.26)\n",
      "Requirement already satisfied: httpcore==1.* in c:\\users\\fatih\\anaconda3\\envs\\kepler_env\\lib\\site-packages (from httpx>=0.25.0->jupyterlab>=4.1.6->keplergl) (1.0.9)\n",
      "Requirement already satisfied: h11>=0.16 in c:\\users\\fatih\\anaconda3\\envs\\kepler_env\\lib\\site-packages (from httpcore==1.*->httpx>=0.25.0->jupyterlab>=4.1.6->keplergl) (0.16.0)\n",
      "Requirement already satisfied: zipp>=3.20 in c:\\users\\fatih\\anaconda3\\envs\\kepler_env\\lib\\site-packages (from importlib-metadata>=4.8.3->jupyterlab>=4.1.6->keplergl) (3.22.0)\n",
      "Requirement already satisfied: debugpy>=1.6.5 in c:\\users\\fatih\\anaconda3\\envs\\kepler_env\\lib\\site-packages (from ipykernel->jupyter>=1.0.0->keplergl) (1.8.14)\n",
      "Requirement already satisfied: nest-asyncio in c:\\users\\fatih\\anaconda3\\envs\\kepler_env\\lib\\site-packages (from ipykernel->jupyter>=1.0.0->keplergl) (1.6.0)\n",
      "Requirement already satisfied: psutil in c:\\users\\fatih\\anaconda3\\envs\\kepler_env\\lib\\site-packages (from ipykernel->jupyter>=1.0.0->keplergl) (7.0.0)\n",
      "Requirement already satisfied: MarkupSafe>=2.0 in c:\\users\\fatih\\anaconda3\\envs\\kepler_env\\lib\\site-packages (from jinja2>=3.0.3->jupyterlab>=4.1.6->keplergl) (3.0.2)\n",
      "Requirement already satisfied: attrs>=22.2.0 in c:\\users\\fatih\\anaconda3\\envs\\kepler_env\\lib\\site-packages (from jsonschema>=4.18.0->jupyterlab-server<3,>=2.27.1->jupyterlab>=4.1.6->keplergl) (25.3.0)\n",
      "Requirement already satisfied: jsonschema-specifications>=2023.03.6 in c:\\users\\fatih\\anaconda3\\envs\\kepler_env\\lib\\site-packages (from jsonschema>=4.18.0->jupyterlab-server<3,>=2.27.1->jupyterlab>=4.1.6->keplergl) (2025.4.1)\n",
      "Requirement already satisfied: referencing>=0.28.4 in c:\\users\\fatih\\anaconda3\\envs\\kepler_env\\lib\\site-packages (from jsonschema>=4.18.0->jupyterlab-server<3,>=2.27.1->jupyterlab>=4.1.6->keplergl) (0.36.2)\n",
      "Requirement already satisfied: rpds-py>=0.7.1 in c:\\users\\fatih\\anaconda3\\envs\\kepler_env\\lib\\site-packages (from jsonschema>=4.18.0->jupyterlab-server<3,>=2.27.1->jupyterlab>=4.1.6->keplergl) (0.25.1)\n",
      "Requirement already satisfied: python-dateutil>=2.8.2 in c:\\users\\fatih\\anaconda3\\envs\\kepler_env\\lib\\site-packages (from jupyter-client>=7.4.4->jupyter-server<3,>=2.4.0->jupyterlab>=4.1.6->keplergl) (2.9.0.post0)\n",
      "Requirement already satisfied: platformdirs>=2.5 in c:\\users\\fatih\\anaconda3\\envs\\kepler_env\\lib\\site-packages (from jupyter-core->jupyterlab>=4.1.6->keplergl) (4.3.8)\n",
      "Requirement already satisfied: pywin32>=300 in c:\\users\\fatih\\anaconda3\\envs\\kepler_env\\lib\\site-packages (from jupyter-core->jupyterlab>=4.1.6->keplergl) (310)\n",
      "Requirement already satisfied: python-json-logger>=2.0.4 in c:\\users\\fatih\\anaconda3\\envs\\kepler_env\\lib\\site-packages (from jupyter-events>=0.11.0->jupyter-server<3,>=2.4.0->jupyterlab>=4.1.6->keplergl) (3.3.0)\n",
      "Requirement already satisfied: pyyaml>=5.3 in c:\\users\\fatih\\anaconda3\\envs\\kepler_env\\lib\\site-packages (from jupyter-events>=0.11.0->jupyter-server<3,>=2.4.0->jupyterlab>=4.1.6->keplergl) (6.0.2)\n",
      "Requirement already satisfied: rfc3339-validator in c:\\users\\fatih\\anaconda3\\envs\\kepler_env\\lib\\site-packages (from jupyter-events>=0.11.0->jupyter-server<3,>=2.4.0->jupyterlab>=4.1.6->keplergl) (0.1.4)\n",
      "Requirement already satisfied: rfc3986-validator>=0.1.1 in c:\\users\\fatih\\anaconda3\\envs\\kepler_env\\lib\\site-packages (from jupyter-events>=0.11.0->jupyter-server<3,>=2.4.0->jupyterlab>=4.1.6->keplergl) (0.1.1)\n",
      "Requirement already satisfied: fqdn in c:\\users\\fatih\\anaconda3\\envs\\kepler_env\\lib\\site-packages (from jsonschema[format-nongpl]>=4.18.0->jupyter-events>=0.11.0->jupyter-server<3,>=2.4.0->jupyterlab>=4.1.6->keplergl) (1.5.1)\n",
      "Requirement already satisfied: isoduration in c:\\users\\fatih\\anaconda3\\envs\\kepler_env\\lib\\site-packages (from jsonschema[format-nongpl]>=4.18.0->jupyter-events>=0.11.0->jupyter-server<3,>=2.4.0->jupyterlab>=4.1.6->keplergl) (20.11.0)\n",
      "Requirement already satisfied: jsonpointer>1.13 in c:\\users\\fatih\\anaconda3\\envs\\kepler_env\\lib\\site-packages (from jsonschema[format-nongpl]>=4.18.0->jupyter-events>=0.11.0->jupyter-server<3,>=2.4.0->jupyterlab>=4.1.6->keplergl) (3.0.0)\n",
      "Requirement already satisfied: uri-template in c:\\users\\fatih\\anaconda3\\envs\\kepler_env\\lib\\site-packages (from jsonschema[format-nongpl]>=4.18.0->jupyter-events>=0.11.0->jupyter-server<3,>=2.4.0->jupyterlab>=4.1.6->keplergl) (1.3.0)\n",
      "Requirement already satisfied: webcolors>=24.6.0 in c:\\users\\fatih\\anaconda3\\envs\\kepler_env\\lib\\site-packages (from jsonschema[format-nongpl]>=4.18.0->jupyter-events>=0.11.0->jupyter-server<3,>=2.4.0->jupyterlab>=4.1.6->keplergl) (24.11.1)\n",
      "Requirement already satisfied: beautifulsoup4 in c:\\users\\fatih\\anaconda3\\envs\\kepler_env\\lib\\site-packages (from nbconvert->jupyter>=1.0.0->keplergl) (4.13.4)\n",
      "Requirement already satisfied: bleach!=5.0.0 in c:\\users\\fatih\\anaconda3\\envs\\kepler_env\\lib\\site-packages (from bleach[css]!=5.0.0->nbconvert->jupyter>=1.0.0->keplergl) (6.2.0)\n",
      "Requirement already satisfied: defusedxml in c:\\users\\fatih\\anaconda3\\envs\\kepler_env\\lib\\site-packages (from nbconvert->jupyter>=1.0.0->keplergl) (0.7.1)\n",
      "Requirement already satisfied: jupyterlab-pygments in c:\\users\\fatih\\anaconda3\\envs\\kepler_env\\lib\\site-packages (from nbconvert->jupyter>=1.0.0->keplergl) (0.3.0)\n",
      "Requirement already satisfied: mistune<4,>=2.0.3 in c:\\users\\fatih\\anaconda3\\envs\\kepler_env\\lib\\site-packages (from nbconvert->jupyter>=1.0.0->keplergl) (3.1.3)\n",
      "Requirement already satisfied: nbclient>=0.5.0 in c:\\users\\fatih\\anaconda3\\envs\\kepler_env\\lib\\site-packages (from nbconvert->jupyter>=1.0.0->keplergl) (0.10.2)\n",
      "Requirement already satisfied: pandocfilters>=1.4.1 in c:\\users\\fatih\\anaconda3\\envs\\kepler_env\\lib\\site-packages (from nbconvert->jupyter>=1.0.0->keplergl) (1.5.1)\n",
      "Requirement already satisfied: webencodings in c:\\users\\fatih\\anaconda3\\envs\\kepler_env\\lib\\site-packages (from bleach!=5.0.0->bleach[css]!=5.0.0->nbconvert->jupyter>=1.0.0->keplergl) (0.5.1)\n",
      "Requirement already satisfied: tinycss2<1.5,>=1.1.0 in c:\\users\\fatih\\anaconda3\\envs\\kepler_env\\lib\\site-packages (from bleach[css]!=5.0.0->nbconvert->jupyter>=1.0.0->keplergl) (1.4.0)\n",
      "Requirement already satisfied: fastjsonschema>=2.15 in c:\\users\\fatih\\anaconda3\\envs\\kepler_env\\lib\\site-packages (from nbformat>=5.3.0->jupyter-server<3,>=2.4.0->jupyterlab>=4.1.6->keplergl) (2.21.1)\n",
      "Requirement already satisfied: pytz>=2020.1 in c:\\users\\fatih\\anaconda3\\envs\\kepler_env\\lib\\site-packages (from pandas->geoarrow-pandas>=0.1.1->keplergl) (2025.2)\n",
      "Requirement already satisfied: tzdata>=2022.7 in c:\\users\\fatih\\anaconda3\\envs\\kepler_env\\lib\\site-packages (from pandas->geoarrow-pandas>=0.1.1->keplergl) (2025.2)\n",
      "Requirement already satisfied: six>=1.5 in c:\\users\\fatih\\anaconda3\\envs\\kepler_env\\lib\\site-packages (from python-dateutil>=2.8.2->jupyter-client>=7.4.4->jupyter-server<3,>=2.4.0->jupyterlab>=4.1.6->keplergl) (1.17.0)\n",
      "Requirement already satisfied: charset-normalizer<4,>=2 in c:\\users\\fatih\\anaconda3\\envs\\kepler_env\\lib\\site-packages (from requests>=2.31->jupyterlab-server<3,>=2.27.1->jupyterlab>=4.1.6->keplergl) (3.4.2)\n",
      "Requirement already satisfied: urllib3<3,>=1.21.1 in c:\\users\\fatih\\anaconda3\\envs\\kepler_env\\lib\\site-packages (from requests>=2.31->jupyterlab-server<3,>=2.27.1->jupyterlab>=4.1.6->keplergl) (2.4.0)\n",
      "Requirement already satisfied: cffi>=1.0.1 in c:\\users\\fatih\\anaconda3\\envs\\kepler_env\\lib\\site-packages (from argon2-cffi-bindings->argon2-cffi>=21.1->jupyter-server<3,>=2.4.0->jupyterlab>=4.1.6->keplergl) (1.17.1)\n",
      "Requirement already satisfied: pycparser in c:\\users\\fatih\\anaconda3\\envs\\kepler_env\\lib\\site-packages (from cffi>=1.0.1->argon2-cffi-bindings->argon2-cffi>=21.1->jupyter-server<3,>=2.4.0->jupyterlab>=4.1.6->keplergl) (2.22)\n",
      "Requirement already satisfied: soupsieve>1.2 in c:\\users\\fatih\\anaconda3\\envs\\kepler_env\\lib\\site-packages (from beautifulsoup4->nbconvert->jupyter>=1.0.0->keplergl) (2.7)\n",
      "Requirement already satisfied: arrow>=0.15.0 in c:\\users\\fatih\\anaconda3\\envs\\kepler_env\\lib\\site-packages (from isoduration->jsonschema[format-nongpl]>=4.18.0->jupyter-events>=0.11.0->jupyter-server<3,>=2.4.0->jupyterlab>=4.1.6->keplergl) (1.3.0)\n",
      "Requirement already satisfied: types-python-dateutil>=2.8.10 in c:\\users\\fatih\\anaconda3\\envs\\kepler_env\\lib\\site-packages (from arrow>=0.15.0->isoduration->jsonschema[format-nongpl]>=4.18.0->jupyter-events>=0.11.0->jupyter-server<3,>=2.4.0->jupyterlab>=4.1.6->keplergl) (2.9.0.20250516)\n",
      "Requirement already satisfied: executing>=1.2.0 in c:\\users\\fatih\\anaconda3\\envs\\kepler_env\\lib\\site-packages (from stack-data->ipython>=6.1.0->ipywidgets>=8.1.5->keplergl) (2.2.0)\n",
      "Requirement already satisfied: asttokens>=2.1.0 in c:\\users\\fatih\\anaconda3\\envs\\kepler_env\\lib\\site-packages (from stack-data->ipython>=6.1.0->ipywidgets>=8.1.5->keplergl) (3.0.0)\n",
      "Requirement already satisfied: pure-eval in c:\\users\\fatih\\anaconda3\\envs\\kepler_env\\lib\\site-packages (from stack-data->ipython>=6.1.0->ipywidgets>=8.1.5->keplergl) (0.2.3)\n"
     ]
    }
   ],
   "source": [
    "!pip install keplergl"
   ]
  },
  {
   "cell_type": "markdown",
   "id": "2dbea325-1363-4711-a996-92b34f10edaa",
   "metadata": {},
   "source": [
    "# MAP CANVAS"
   ]
  },
  {
   "cell_type": "code",
   "execution_count": 2,
   "id": "f89ff759-a001-4dc3-9417-1049e5c82137",
   "metadata": {},
   "outputs": [
    {
     "name": "stdout",
     "output_type": "stream",
     "text": [
      "User Guide: https://docs.kepler.gl/docs/keplergl-jupyter\n"
     ]
    },
    {
     "data": {
      "application/vnd.jupyter.widget-view+json": {
       "model_id": "13e53b95f3f94e648ecf8ee2fbd9039c",
       "version_major": 2,
       "version_minor": 0
      },
      "text/plain": [
       "KeplerGl(height=500)"
      ]
     },
     "execution_count": 2,
     "metadata": {},
     "output_type": "execute_result"
    }
   ],
   "source": [
    "from keplergl.keplergl import KeplerGl\n",
    "map_1 = KeplerGl(height=500)\n",
    "map_1\n"
   ]
  },
  {
   "cell_type": "markdown",
   "id": "468ef02a-292d-45b2-b625-830594a6e5c7",
   "metadata": {},
   "source": [
    "# IMPORT"
   ]
  },
  {
   "cell_type": "code",
   "execution_count": 11,
   "id": "9cea81a9-5dae-442e-a6c5-a2d6b1cf174c",
   "metadata": {},
   "outputs": [
    {
     "name": "stdout",
     "output_type": "stream",
     "text": [
      "User Guide: https://docs.kepler.gl/docs/keplergl-jupyter\n"
     ]
    },
    {
     "data": {
      "application/vnd.jupyter.widget-view+json": {
       "model_id": "84b9f453099a4bd38804215da6cf8928",
       "version_major": 2,
       "version_minor": 0
      },
      "text/plain": [
       "KeplerGl(data={'Depremler': {'index': [0, 1, 2, 3, 4, 5, 6, 7, 8, 9, 10, 11, 12, 13, 14, 15, 16, 17, 18, 19, 2…"
      ]
     },
     "execution_count": 11,
     "metadata": {},
     "output_type": "execute_result"
    }
   ],
   "source": [
    "import pandas as pd\n",
    "import numpy as np\n",
    "from keplergl import KeplerGl\n",
    "\n",
    "\n",
    "df = pd.read_csv(\"datasetindex.txt\", sep=\"\\t\", encoding=\"ISO-8859-9\")\n",
    "\n",
    "\n",
    "df_filtered = df[[\"Enlem\", \"Boylam\", \"Yer\", \"Olus tarihi\", \"Mw\"]].copy()\n",
    "\n",
    "\n",
    "df_filtered.loc[:, \"Enlem\"] = pd.to_numeric(df_filtered[\"Enlem\"], errors=\"coerce\")\n",
    "df_filtered.loc[:, \"Boylam\"] = pd.to_numeric(df_filtered[\"Boylam\"], errors=\"coerce\")\n",
    "df_filtered = df_filtered.dropna(subset=[\"Enlem\", \"Boylam\"])\n",
    "df_filtered = df_filtered[np.isfinite(df_filtered[\"Enlem\"]) & np.isfinite(df_filtered[\"Boylam\"])]\n",
    "df_filtered = df_filtered[(df_filtered[\"Enlem\"].between(-90, 90)) & (df_filtered[\"Boylam\"].between(-180, 180))]\n",
    "df_filtered = df_filtered.replace([np.inf, -np.inf], np.nan).dropna()\n",
    "\n",
    "# map\n",
    "map_1 = KeplerGl(height=600)\n",
    "map_1.add_data(data=df_filtered, name=\"Depremler\")\n",
    "map_1\n"
   ]
  },
  {
   "cell_type": "code",
   "execution_count": null,
   "id": "df9e2337-e433-431e-a7fb-cd33363f8c74",
   "metadata": {},
   "outputs": [],
   "source": []
  }
 ],
 "metadata": {
  "kernelspec": {
   "display_name": "Python 3 (ipykernel)",
   "language": "python",
   "name": "python3"
  },
  "language_info": {
   "codemirror_mode": {
    "name": "ipython",
    "version": 3
   },
   "file_extension": ".py",
   "mimetype": "text/x-python",
   "name": "python",
   "nbconvert_exporter": "python",
   "pygments_lexer": "ipython3",
   "version": "3.9.21"
  }
 },
 "nbformat": 4,
 "nbformat_minor": 5
}
